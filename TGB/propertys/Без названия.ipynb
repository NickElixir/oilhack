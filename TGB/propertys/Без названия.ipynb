{
 "cells": [
  {
   "cell_type": "code",
   "execution_count": 93,
   "metadata": {},
   "outputs": [],
   "source": [
    "import pandas as pd\n",
    "import numpy as np\n",
    "\n",
    "links_table = pd.read_csv('links_table.csv', sep=';')\n",
    "\n",
    "\n",
    "\n",
    "res = np.array([])\n",
    "res = np.append(res, links_table.loc[links_table.company_name == word]['id-child'].values)\n",
    "l = len(res)\n",
    "i = 0\n",
    "\n",
    "while i<l:\n",
    "    if(res[i] in links_table['id-company'].values):\n",
    "        res = np.append(res, links_table.loc[links_table['id-company'] == res[i]]['id-child'].values)\n",
    "        l = len(res)\n",
    "        res[i] = -1\n",
    "    i += 1\n",
    "\n",
    "res = list(set(res))\n",
    "res.remove(-1)\n",
    "res = np.array(res).astype(int)\n",
    "\n",
    "tables = np.array([])\n",
    "returnable_df = pd.DataFrame()\n",
    "for i in res:\n",
    "    path = \"../tables/\" + str(i) + '.csv'\n",
    "    tmp = pd.read_csv(path, sep=';')\n",
    "    returnable_df = returnable_df.append(tmp)\n",
    "returnable_df.to_csv('push_back-x.csv')\n",
    "\n"
   ]
  },
  {
   "cell_type": "code",
   "execution_count": 94,
   "metadata": {},
   "outputs": [
    {
     "data": {
      "text/plain": [
       "0     0\n",
       "1     1\n",
       "2     1\n",
       "3     1\n",
       "4     0\n",
       "5     0\n",
       "6     0\n",
       "7     0\n",
       "8     0\n",
       "9     0\n",
       "10    1\n",
       "11    1\n",
       "12    0\n",
       "13    0\n",
       "14    0\n",
       "0     0\n",
       "1     1\n",
       "2     1\n",
       "3     1\n",
       "4     0\n",
       "5     0\n",
       "6     0\n",
       "7     0\n",
       "8     0\n",
       "9     0\n",
       "10    1\n",
       "11    1\n",
       "12    0\n",
       "13    0\n",
       "14    0\n",
       "Name: Import, dtype: int64"
      ]
     },
     "execution_count": 94,
     "metadata": {},
     "output_type": "execute_result"
    }
   ],
   "source": [
    "returnable_df['Import']"
   ]
  },
  {
   "cell_type": "code",
   "execution_count": 96,
   "metadata": {},
   "outputs": [],
   "source": [
    "imp = 0\n",
    "for i in range(returnable_df.shape[0]):\n",
    "    imp += returnable_df.iloc[i]['Import'] * returnable_df.iloc[i]['Доля в проекте']\n",
    "imp = imp / returnable_df['Доля в проекте'].sum()"
   ]
  },
  {
   "cell_type": "code",
   "execution_count": 104,
   "metadata": {},
   "outputs": [],
   "source": [
    "new_df = pd.DataFrame({'Общий бюджет' : [returnable_df['Бюджет'].sum()], 'Коэффициент импортозависимости' : [imp]})\n"
   ]
  },
  {
   "cell_type": "code",
   "execution_count": 105,
   "metadata": {},
   "outputs": [
    {
     "data": {
      "text/html": [
       "<div>\n",
       "<style scoped>\n",
       "    .dataframe tbody tr th:only-of-type {\n",
       "        vertical-align: middle;\n",
       "    }\n",
       "\n",
       "    .dataframe tbody tr th {\n",
       "        vertical-align: top;\n",
       "    }\n",
       "\n",
       "    .dataframe thead th {\n",
       "        text-align: right;\n",
       "    }\n",
       "</style>\n",
       "<table border=\"1\" class=\"dataframe\">\n",
       "  <thead>\n",
       "    <tr style=\"text-align: right;\">\n",
       "      <th></th>\n",
       "      <th>Общий бюджет</th>\n",
       "      <th>Коэффициент импортозависимости</th>\n",
       "    </tr>\n",
       "  </thead>\n",
       "  <tbody>\n",
       "    <tr>\n",
       "      <th>0</th>\n",
       "      <td>7800</td>\n",
       "      <td>0.1875</td>\n",
       "    </tr>\n",
       "  </tbody>\n",
       "</table>\n",
       "</div>"
      ],
      "text/plain": [
       "   Общий бюджет  Коэффициент импортозависимости\n",
       "0          7800                          0.1875"
      ]
     },
     "execution_count": 105,
     "metadata": {},
     "output_type": "execute_result"
    }
   ],
   "source": [
    "new_df"
   ]
  },
  {
   "cell_type": "code",
   "execution_count": 106,
   "metadata": {},
   "outputs": [
    {
     "data": {
      "text/html": [
       "<div>\n",
       "<style scoped>\n",
       "    .dataframe tbody tr th:only-of-type {\n",
       "        vertical-align: middle;\n",
       "    }\n",
       "\n",
       "    .dataframe tbody tr th {\n",
       "        vertical-align: top;\n",
       "    }\n",
       "\n",
       "    .dataframe thead th {\n",
       "        text-align: right;\n",
       "    }\n",
       "</style>\n",
       "<table border=\"1\" class=\"dataframe\">\n",
       "  <thead>\n",
       "    <tr style=\"text-align: right;\">\n",
       "      <th></th>\n",
       "      <th>Наименование компонента</th>\n",
       "      <th>Бюджет</th>\n",
       "      <th>Платформа</th>\n",
       "      <th>Вендор</th>\n",
       "      <th>Import</th>\n",
       "      <th>Доля в проекте</th>\n",
       "      <th>Статус</th>\n",
       "    </tr>\n",
       "  </thead>\n",
       "  <tbody>\n",
       "    <tr>\n",
       "      <th>0</th>\n",
       "      <td>.Net  ПТК ЭЖ</td>\n",
       "      <td>100</td>\n",
       "      <td>.Net (коробка)</td>\n",
       "      <td>Россия</td>\n",
       "      <td>0</td>\n",
       "      <td>3</td>\n",
       "      <td>Эксплуатация</td>\n",
       "    </tr>\n",
       "    <tr>\n",
       "      <th>1</th>\n",
       "      <td>.NET Cards Internet</td>\n",
       "      <td>200</td>\n",
       "      <td>.Net</td>\n",
       "      <td>США</td>\n",
       "      <td>1</td>\n",
       "      <td>5</td>\n",
       "      <td>Эксплуатация</td>\n",
       "    </tr>\n",
       "    <tr>\n",
       "      <th>2</th>\n",
       "      <td>.NET Cards Intranet</td>\n",
       "      <td>50</td>\n",
       "      <td>.Net</td>\n",
       "      <td>США</td>\n",
       "      <td>1</td>\n",
       "      <td>2</td>\n",
       "      <td>Эксплуатация</td>\n",
       "    </tr>\n",
       "    <tr>\n",
       "      <th>3</th>\n",
       "      <td>.Net Core USPP</td>\n",
       "      <td>1000</td>\n",
       "      <td>.Net Core</td>\n",
       "      <td>США</td>\n",
       "      <td>1</td>\n",
       "      <td>1</td>\n",
       "      <td>Проектирование</td>\n",
       "    </tr>\n",
       "    <tr>\n",
       "      <th>4</th>\n",
       "      <td>.Net Core БГГДМ</td>\n",
       "      <td>130</td>\n",
       "      <td>.Net Core</td>\n",
       "      <td>Россия</td>\n",
       "      <td>0</td>\n",
       "      <td>10</td>\n",
       "      <td>Проектирование</td>\n",
       "    </tr>\n",
       "    <tr>\n",
       "      <th>5</th>\n",
       "      <td>.Net Core ГРП</td>\n",
       "      <td>190</td>\n",
       "      <td>WAG</td>\n",
       "      <td>Россия</td>\n",
       "      <td>0</td>\n",
       "      <td>2</td>\n",
       "      <td>Проектирование</td>\n",
       "    </tr>\n",
       "    <tr>\n",
       "      <th>6</th>\n",
       "      <td>.Net Core КОГИ_VOI</td>\n",
       "      <td>260</td>\n",
       "      <td>WAG</td>\n",
       "      <td>Россия</td>\n",
       "      <td>0</td>\n",
       "      <td>5</td>\n",
       "      <td>Проектирование</td>\n",
       "    </tr>\n",
       "    <tr>\n",
       "      <th>7</th>\n",
       "      <td>.Net Core МКС ВСР</td>\n",
       "      <td>80</td>\n",
       "      <td>.Net Core</td>\n",
       "      <td>Россия</td>\n",
       "      <td>0</td>\n",
       "      <td>8</td>\n",
       "      <td>Проектирование</td>\n",
       "    </tr>\n",
       "    <tr>\n",
       "      <th>8</th>\n",
       "      <td>.Net Core Уберизация ПИР</td>\n",
       "      <td>10</td>\n",
       "      <td>.Net Core</td>\n",
       "      <td>Россия</td>\n",
       "      <td>0</td>\n",
       "      <td>3</td>\n",
       "      <td>Проектирование</td>\n",
       "    </tr>\n",
       "    <tr>\n",
       "      <th>9</th>\n",
       "      <td>.NET Core ЭРА:ПроАктив</td>\n",
       "      <td>100</td>\n",
       "      <td>.Net Core</td>\n",
       "      <td>Россия</td>\n",
       "      <td>0</td>\n",
       "      <td>7</td>\n",
       "      <td>Проектирование</td>\n",
       "    </tr>\n",
       "    <tr>\n",
       "      <th>10</th>\n",
       "      <td>.Net Forsait</td>\n",
       "      <td>140</td>\n",
       "      <td>.Net</td>\n",
       "      <td>США</td>\n",
       "      <td>1</td>\n",
       "      <td>3</td>\n",
       "      <td>Эксплуатация</td>\n",
       "    </tr>\n",
       "    <tr>\n",
       "      <th>11</th>\n",
       "      <td>.Net PhoneUP</td>\n",
       "      <td>580</td>\n",
       "      <td>.Net</td>\n",
       "      <td>США</td>\n",
       "      <td>1</td>\n",
       "      <td>1</td>\n",
       "      <td>Проектирование</td>\n",
       "    </tr>\n",
       "    <tr>\n",
       "      <th>12</th>\n",
       "      <td>.NET Web-Портал СОП 2.0</td>\n",
       "      <td>450</td>\n",
       "      <td>.Net</td>\n",
       "      <td>Россия</td>\n",
       "      <td>0</td>\n",
       "      <td>4</td>\n",
       "      <td>Проектирование</td>\n",
       "    </tr>\n",
       "    <tr>\n",
       "      <th>13</th>\n",
       "      <td>.Net ДПН</td>\n",
       "      <td>300</td>\n",
       "      <td>.Net</td>\n",
       "      <td>Россия</td>\n",
       "      <td>0</td>\n",
       "      <td>1</td>\n",
       "      <td>Проектирование</td>\n",
       "    </tr>\n",
       "    <tr>\n",
       "      <th>14</th>\n",
       "      <td>.NET ЕМИС 3.0</td>\n",
       "      <td>310</td>\n",
       "      <td>.Net</td>\n",
       "      <td>Россия</td>\n",
       "      <td>0</td>\n",
       "      <td>9</td>\n",
       "      <td>Эксплуатация</td>\n",
       "    </tr>\n",
       "    <tr>\n",
       "      <th>0</th>\n",
       "      <td>.Net  ПТК ЭЖ</td>\n",
       "      <td>100</td>\n",
       "      <td>.Net (коробка)</td>\n",
       "      <td>Россия</td>\n",
       "      <td>0</td>\n",
       "      <td>3</td>\n",
       "      <td>Эксплуатация</td>\n",
       "    </tr>\n",
       "    <tr>\n",
       "      <th>1</th>\n",
       "      <td>.NET Cards Internet</td>\n",
       "      <td>200</td>\n",
       "      <td>.Net</td>\n",
       "      <td>США</td>\n",
       "      <td>1</td>\n",
       "      <td>5</td>\n",
       "      <td>Эксплуатация</td>\n",
       "    </tr>\n",
       "    <tr>\n",
       "      <th>2</th>\n",
       "      <td>.NET Cards Intranet</td>\n",
       "      <td>50</td>\n",
       "      <td>.Net</td>\n",
       "      <td>США</td>\n",
       "      <td>1</td>\n",
       "      <td>2</td>\n",
       "      <td>Эксплуатация</td>\n",
       "    </tr>\n",
       "    <tr>\n",
       "      <th>3</th>\n",
       "      <td>.Net Core USPP</td>\n",
       "      <td>1000</td>\n",
       "      <td>.Net Core</td>\n",
       "      <td>США</td>\n",
       "      <td>1</td>\n",
       "      <td>1</td>\n",
       "      <td>Проектирование</td>\n",
       "    </tr>\n",
       "    <tr>\n",
       "      <th>4</th>\n",
       "      <td>.Net Core БГГДМ</td>\n",
       "      <td>130</td>\n",
       "      <td>.Net Core</td>\n",
       "      <td>Россия</td>\n",
       "      <td>0</td>\n",
       "      <td>10</td>\n",
       "      <td>Проектирование</td>\n",
       "    </tr>\n",
       "    <tr>\n",
       "      <th>5</th>\n",
       "      <td>.Net Core ГРП</td>\n",
       "      <td>190</td>\n",
       "      <td>WAG</td>\n",
       "      <td>Россия</td>\n",
       "      <td>0</td>\n",
       "      <td>2</td>\n",
       "      <td>Проектирование</td>\n",
       "    </tr>\n",
       "    <tr>\n",
       "      <th>6</th>\n",
       "      <td>.Net Core КОГИ_VOI</td>\n",
       "      <td>260</td>\n",
       "      <td>WAG</td>\n",
       "      <td>Россия</td>\n",
       "      <td>0</td>\n",
       "      <td>5</td>\n",
       "      <td>Проектирование</td>\n",
       "    </tr>\n",
       "    <tr>\n",
       "      <th>7</th>\n",
       "      <td>.Net Core МКС ВСР</td>\n",
       "      <td>80</td>\n",
       "      <td>.Net Core</td>\n",
       "      <td>Россия</td>\n",
       "      <td>0</td>\n",
       "      <td>8</td>\n",
       "      <td>Проектирование</td>\n",
       "    </tr>\n",
       "    <tr>\n",
       "      <th>8</th>\n",
       "      <td>.Net Core Уберизация ПИР</td>\n",
       "      <td>10</td>\n",
       "      <td>.Net Core</td>\n",
       "      <td>Россия</td>\n",
       "      <td>0</td>\n",
       "      <td>3</td>\n",
       "      <td>Проектирование</td>\n",
       "    </tr>\n",
       "    <tr>\n",
       "      <th>9</th>\n",
       "      <td>.NET Core ЭРА:ПроАктив</td>\n",
       "      <td>100</td>\n",
       "      <td>.Net Core</td>\n",
       "      <td>Россия</td>\n",
       "      <td>0</td>\n",
       "      <td>7</td>\n",
       "      <td>Проектирование</td>\n",
       "    </tr>\n",
       "    <tr>\n",
       "      <th>10</th>\n",
       "      <td>.Net Forsait</td>\n",
       "      <td>140</td>\n",
       "      <td>.Net</td>\n",
       "      <td>США</td>\n",
       "      <td>1</td>\n",
       "      <td>3</td>\n",
       "      <td>Эксплуатация</td>\n",
       "    </tr>\n",
       "    <tr>\n",
       "      <th>11</th>\n",
       "      <td>.Net PhoneUP</td>\n",
       "      <td>580</td>\n",
       "      <td>.Net</td>\n",
       "      <td>США</td>\n",
       "      <td>1</td>\n",
       "      <td>1</td>\n",
       "      <td>Проектирование</td>\n",
       "    </tr>\n",
       "    <tr>\n",
       "      <th>12</th>\n",
       "      <td>.NET Web-Портал СОП 2.0</td>\n",
       "      <td>450</td>\n",
       "      <td>.Net</td>\n",
       "      <td>Россия</td>\n",
       "      <td>0</td>\n",
       "      <td>4</td>\n",
       "      <td>Проектирование</td>\n",
       "    </tr>\n",
       "    <tr>\n",
       "      <th>13</th>\n",
       "      <td>.Net ДПН</td>\n",
       "      <td>300</td>\n",
       "      <td>.Net</td>\n",
       "      <td>Россия</td>\n",
       "      <td>0</td>\n",
       "      <td>1</td>\n",
       "      <td>Проектирование</td>\n",
       "    </tr>\n",
       "    <tr>\n",
       "      <th>14</th>\n",
       "      <td>.NET ЕМИС 3.0</td>\n",
       "      <td>310</td>\n",
       "      <td>.Net</td>\n",
       "      <td>Россия</td>\n",
       "      <td>0</td>\n",
       "      <td>9</td>\n",
       "      <td>Эксплуатация</td>\n",
       "    </tr>\n",
       "  </tbody>\n",
       "</table>\n",
       "</div>"
      ],
      "text/plain": [
       "     Наименование компонента  Бюджет       Платформа  Вендор  Import  \\\n",
       "0               .Net  ПТК ЭЖ     100  .Net (коробка)  Россия       0   \n",
       "1        .NET Cards Internet     200            .Net     США       1   \n",
       "2        .NET Cards Intranet      50            .Net     США       1   \n",
       "3             .Net Core USPP    1000       .Net Core     США       1   \n",
       "4            .Net Core БГГДМ     130       .Net Core  Россия       0   \n",
       "5              .Net Core ГРП     190             WAG  Россия       0   \n",
       "6         .Net Core КОГИ_VOI     260             WAG  Россия       0   \n",
       "7          .Net Core МКС ВСР      80       .Net Core  Россия       0   \n",
       "8   .Net Core Уберизация ПИР      10       .Net Core  Россия       0   \n",
       "9     .NET Core ЭРА:ПроАктив     100       .Net Core  Россия       0   \n",
       "10              .Net Forsait     140            .Net     США       1   \n",
       "11              .Net PhoneUP     580            .Net     США       1   \n",
       "12   .NET Web-Портал СОП 2.0     450            .Net  Россия       0   \n",
       "13                  .Net ДПН     300            .Net  Россия       0   \n",
       "14             .NET ЕМИС 3.0     310            .Net  Россия       0   \n",
       "0               .Net  ПТК ЭЖ     100  .Net (коробка)  Россия       0   \n",
       "1        .NET Cards Internet     200            .Net     США       1   \n",
       "2        .NET Cards Intranet      50            .Net     США       1   \n",
       "3             .Net Core USPP    1000       .Net Core     США       1   \n",
       "4            .Net Core БГГДМ     130       .Net Core  Россия       0   \n",
       "5              .Net Core ГРП     190             WAG  Россия       0   \n",
       "6         .Net Core КОГИ_VOI     260             WAG  Россия       0   \n",
       "7          .Net Core МКС ВСР      80       .Net Core  Россия       0   \n",
       "8   .Net Core Уберизация ПИР      10       .Net Core  Россия       0   \n",
       "9     .NET Core ЭРА:ПроАктив     100       .Net Core  Россия       0   \n",
       "10              .Net Forsait     140            .Net     США       1   \n",
       "11              .Net PhoneUP     580            .Net     США       1   \n",
       "12   .NET Web-Портал СОП 2.0     450            .Net  Россия       0   \n",
       "13                  .Net ДПН     300            .Net  Россия       0   \n",
       "14             .NET ЕМИС 3.0     310            .Net  Россия       0   \n",
       "\n",
       "    Доля в проекте          Статус  \n",
       "0                3    Эксплуатация  \n",
       "1                5    Эксплуатация  \n",
       "2                2    Эксплуатация  \n",
       "3                1  Проектирование  \n",
       "4               10  Проектирование  \n",
       "5                2  Проектирование  \n",
       "6                5  Проектирование  \n",
       "7                8  Проектирование  \n",
       "8                3  Проектирование  \n",
       "9                7  Проектирование  \n",
       "10               3    Эксплуатация  \n",
       "11               1  Проектирование  \n",
       "12               4  Проектирование  \n",
       "13               1  Проектирование  \n",
       "14               9    Эксплуатация  \n",
       "0                3    Эксплуатация  \n",
       "1                5    Эксплуатация  \n",
       "2                2    Эксплуатация  \n",
       "3                1  Проектирование  \n",
       "4               10  Проектирование  \n",
       "5                2  Проектирование  \n",
       "6                5  Проектирование  \n",
       "7                8  Проектирование  \n",
       "8                3  Проектирование  \n",
       "9                7  Проектирование  \n",
       "10               3    Эксплуатация  \n",
       "11               1  Проектирование  \n",
       "12               4  Проектирование  \n",
       "13               1  Проектирование  \n",
       "14               9    Эксплуатация  "
      ]
     },
     "execution_count": 106,
     "metadata": {},
     "output_type": "execute_result"
    }
   ],
   "source": [
    "returnable_df['Наименование компонента']"
   ]
  },
  {
   "cell_type": "code",
   "execution_count": 121,
   "metadata": {},
   "outputs": [
    {
     "data": {
      "text/plain": [
       "0     0.012821\n",
       "1     0.025641\n",
       "2     0.006410\n",
       "3     0.128205\n",
       "4     0.016667\n",
       "5     0.024359\n",
       "6     0.033333\n",
       "7     0.010256\n",
       "8     0.001282\n",
       "9     0.012821\n",
       "10    0.017949\n",
       "11    0.074359\n",
       "12    0.057692\n",
       "13    0.038462\n",
       "14    0.039744\n",
       "0     0.012821\n",
       "1     0.025641\n",
       "2     0.006410\n",
       "3     0.128205\n",
       "4     0.016667\n",
       "5     0.024359\n",
       "6     0.033333\n",
       "7     0.010256\n",
       "8     0.001282\n",
       "9     0.012821\n",
       "10    0.017949\n",
       "11    0.074359\n",
       "12    0.057692\n",
       "13    0.038462\n",
       "14    0.039744\n",
       "Name: Бюджет, dtype: float64"
      ]
     },
     "execution_count": 121,
     "metadata": {},
     "output_type": "execute_result"
    }
   ],
   "source": [
    "returnable_df['Бюджет']/returnable_df['Бюджет'].sum()"
   ]
  },
  {
   "cell_type": "code",
   "execution_count": 107,
   "metadata": {},
   "outputs": [],
   "source": [
    "import matplotlib.pyplot as plt"
   ]
  },
  {
   "cell_type": "code",
   "execution_count": 119,
   "metadata": {},
   "outputs": [
    {
     "data": {
      "image/png": "[encoded data removed]",
      "text/plain": [
       "<Figure size 576x576 with 1 Axes>"
      ]
     },
     "metadata": {},
     "output_type": "display_data"
    }
   ],
   "source": [
    "returnable_df.Import.value_counts().plot(kind='pie', subplots=True, figsize=(8, 8))\n",
    "plt.title(\"Pie Chart of Vehicle Class - Bad\")\n",
    "plt.ylabel(\"\")\n",
    "plt.show()"
   ]
  },
  {
   "cell_type": "code",
   "execution_count": 108,
   "metadata": {},
   "outputs": [
    {
     "data": {
      "text/plain": [
       "([<matplotlib.patches.Wedge at 0x7fd613d11250>,\n",
       "  <matplotlib.patches.Wedge at 0x7fd613d11730>],\n",
       " [Text(-0.5500000594609754, 0.95262790983307, ''),\n",
       "  Text(0.5500001486524351, -0.9526278583383437, '')])"
      ]
     },
     "execution_count": 108,
     "metadata": {},
     "output_type": "execute_result"
    },
    {
     "data": {
      "image/png": "[encoded data removed]",
      "text/plain": [
       "<Figure size 432x288 with 1 Axes>"
      ]
     },
     "metadata": {},
     "output_type": "display_data"
    }
   ],
   "source": [
    "plt.pie(returnable_df.Import.value_counts())"
   ]
  },
  {
   "cell_type": "code",
   "execution_count": 111,
   "metadata": {},
   "outputs": [
    {
     "data": {
      "text/plain": [
       "<BarContainer object of 30 artists>"
      ]
     },
     "execution_count": 111,
     "metadata": {},
     "output_type": "execute_result"
    },
    {
     "data": {
      "image/png": "[encoded data removed]",
      "text/plain": [
       "<Figure size 432x288 with 1 Axes>"
      ]
     },
     "metadata": {
      "needs_background": "light"
     },
     "output_type": "display_data"
    }
   ],
   "source": [
    "plt.bar(returnable_df['Наименование компонента'], returnable_df['Доля в проекте'])"
   ]
  },
  {
   "cell_type": "code",
   "execution_count": 147,
   "metadata": {},
   "outputs": [
    {
     "data": {
      "image/png": "[encoded data removed]",
      "text/plain": [
       "<Figure size 1152x864 with 1 Axes>"
      ]
     },
     "metadata": {
      "needs_background": "light"
     },
     "output_type": "display_data"
    }
   ],
   "source": [
    "labels = returnable_df['Наименование компонента'].values\n",
    "x1 = returnable_df['Бюджет']/returnable_df['Бюджет'].sum()\n",
    "x2 = returnable_df['Доля в проекте']/returnable_df['Доля в проекте'].sum()\n",
    "\n",
    "x = np.arange(len(labels))  # the label locations\n",
    "width = 0.35  # the width of the bars\n",
    "\n",
    "fig, ax = plt.subplots(figsize=(16, 12))\n",
    "rects1 = ax.bar(x - width/2, x1, width, label='Бюджет')\n",
    "rects2 = ax.bar(x + width/2, x2, width, label='Доля в проекте')\n",
    "\n",
    "# Add some text for labels, title and custom x-axis tick labels, etc.\n",
    "\n",
    "ax.set_ylabel('Scores')\n",
    "ax.set_title('Scores by group and gender')\n",
    "ax.set_xticks(x)\n",
    "ax.set_xticklabels(labels)\n",
    "ax.legend()\n",
    "plt.xticks(rotation=90)\n",
    "fig.tight_layout()\n",
    "fig.savefig('Testfig.png')\n",
    "plt.show()\n"
   ]
  },
  {
   "cell_type": "code",
   "execution_count": 144,
   "metadata": {},
   "outputs": [
    {
     "ename": "TypeError",
     "evalue": "bar() missing 1 required positional argument: 'height'",
     "output_type": "error",
     "traceback": [
      "\u001b[0;31m---------------------------------------------------------------------------\u001b[0m",
      "\u001b[0;31mTypeError\u001b[0m                                 Traceback (most recent call last)",
      "\u001b[0;32m<ipython-input-144-e345aafafe77>\u001b[0m in \u001b[0;36m<module>\u001b[0;34m\u001b[0m\n\u001b[1;32m      3\u001b[0m \u001b[0;34m\u001b[0m\u001b[0m\n\u001b[1;32m      4\u001b[0m \u001b[0;34m\u001b[0m\u001b[0m\n\u001b[0;32m----> 5\u001b[0;31m \u001b[0mplt\u001b[0m\u001b[0;34m.\u001b[0m\u001b[0mbar\u001b[0m\u001b[0;34m(\u001b[0m\u001b[0;34m[\u001b[0m\u001b[0mx\u001b[0m\u001b[0;34m,\u001b[0m \u001b[0my\u001b[0m\u001b[0;34m]\u001b[0m\u001b[0;34m,\u001b[0m \u001b[0mlabel\u001b[0m\u001b[0;34m=\u001b[0m\u001b[0;34m[\u001b[0m\u001b[0;34m'x'\u001b[0m\u001b[0;34m,\u001b[0m \u001b[0;34m'y'\u001b[0m\u001b[0;34m]\u001b[0m\u001b[0;34m)\u001b[0m\u001b[0;34m\u001b[0m\u001b[0;34m\u001b[0m\u001b[0m\n\u001b[0m\u001b[1;32m      6\u001b[0m \u001b[0mplt\u001b[0m\u001b[0;34m.\u001b[0m\u001b[0mlegend\u001b[0m\u001b[0;34m(\u001b[0m\u001b[0mloc\u001b[0m\u001b[0;34m=\u001b[0m\u001b[0;34m'upper right'\u001b[0m\u001b[0;34m)\u001b[0m\u001b[0;34m\u001b[0m\u001b[0;34m\u001b[0m\u001b[0m\n",
      "\u001b[0;31mTypeError\u001b[0m: bar() missing 1 required positional argument: 'height'"
     ]
    }
   ],
   "source": [
    "x = returnable_df['Бюджет']/returnable_df['Бюджет'].sum()\n",
    "y = returnable_df['Доля в проекте']/returnable_df['Доля в проекте'].sum()\n",
    "\n",
    "\n",
    "plt.bar([x, y], label=['x', 'y'])\n",
    "plt.legend(loc='upper right')"
   ]
  },
  {
   "cell_type": "code",
   "execution_count": 116,
   "metadata": {},
   "outputs": [
    {
     "data": {
      "text/plain": [
       "([<matplotlib.patches.Wedge at 0x7fd6148bdfa0>,\n",
       "  <matplotlib.patches.Wedge at 0x7fd61490c4c0>,\n",
       "  <matplotlib.patches.Wedge at 0x7fd61490c940>,\n",
       "  <matplotlib.patches.Wedge at 0x7fd61490cdc0>],\n",
       " [Text(0.11498130276606913, 1.0939740856227893, ''),\n",
       "  Text(-0.7360436312779135, -0.8174593401847111, ''),\n",
       "  Text(0.7360437460820064, -0.817459236814636, ''),\n",
       "  Text(1.0759623904280886, -0.2287027205441018, '')])"
      ]
     },
     "execution_count": 116,
     "metadata": {},
     "output_type": "execute_result"
    },
    {
     "data": {
      "image/png": "[encoded data removed]",
      "text/plain": [
       "<Figure size 432x288 with 1 Axes>"
      ]
     },
     "metadata": {},
     "output_type": "display_data"
    }
   ],
   "source": [
    "plt.pie(returnable_df['Платформа'].value_counts())"
   ]
  },
  {
   "cell_type": "code",
   "execution_count": 115,
   "metadata": {},
   "outputs": [
    {
     "data": {
      "text/plain": [
       "4"
      ]
     },
     "execution_count": 115,
     "metadata": {},
     "output_type": "execute_result"
    }
   ],
   "source": []
  },
  {
   "cell_type": "code",
   "execution_count": null,
   "metadata": {},
   "outputs": [],
   "source": []
  }
 ],
 "metadata": {
  "kernelspec": {
   "display_name": "Python 3",
   "language": "python",
   "name": "python3"
  },
  "language_info": {
   "codemirror_mode": {
    "name": "ipython",
    "version": 3
   },
   "file_extension": ".py",
   "mimetype": "text/x-python",
   "name": "python",
   "nbconvert_exporter": "python",
   "pygments_lexer": "ipython3",
   "version": "3.8.5"
  }
 },
 "nbformat": 4,
 "nbformat_minor": 4
}
